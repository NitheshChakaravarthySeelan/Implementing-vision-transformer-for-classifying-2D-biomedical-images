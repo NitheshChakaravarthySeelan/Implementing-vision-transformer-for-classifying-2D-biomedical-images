{
 "cells": [
  {
   "cell_type": "code",
   "execution_count": null,
   "id": "e70801e8-febf-4237-8d04-a00a13cc5075",
   "metadata": {},
   "outputs": [],
   "source": [
    "import torch\n",
    "import matplotlib.pyplot as plt\n",
    "from transformers import TrainingArguments, Trainer\n",
    "from datasets import load_dataset\n",
    "from src.model import load_vit_model\n",
    "from src.utils import transform_function, collate_fn, compute_metrics\n",
    "\n",
    "torch.manual_seed(42)\n"
   ]
  },
  {
   "cell_type": "code",
   "execution_count": null,
   "id": "cdb50e3c-53b0-44ac-8d6c-5c175cf10e50",
   "metadata": {},
   "outputs": [],
   "source": [
    "ds = load_dataset(\"albertvillanova/medmnist-v2\", \"bloodmnist\")\n",
    "labels = ds[\"train\"].features[\"label\"].names\n",
    "print(\"Labels:\", labels)\n",
    "\n",
    "model, image_processor = load_vit_model(num_labels=len(labels))\n",
    "\n",
    "ds = ds.with_transform(lambda examples: transform_function(examples, image_processor))\n"
   ]
  },
  {
   "cell_type": "code",
   "execution_count": null,
   "id": "f4aa6357-96a9-4dc2-adb9-1178864e43a7",
   "metadata": {},
   "outputs": [],
   "source": [
    "training_args = TrainingArguments(\n",
    "    output_dir=\"./vit-bloodmnist-notebook\",\n",
    "    per_device_train_batch_size=32,\n",
    "    evaluation_strategy=\"steps\",\n",
    "    num_train_epochs=10,\n",
    "    save_steps=374,\n",
    "    eval_steps=374,\n",
    "    logging_steps=374,\n",
    "    save_total_limit=2,\n",
    "    load_best_model_at_end=True,\n",
    "    report_to=None,\n",
    ")\n",
    "\n",
    "trainer = Trainer(\n",
    "    model=model,\n",
    "    args=training_args,\n",
    "    data_collator=collate_fn,\n",
    "    compute_metrics=compute_metrics,\n",
    "    train_dataset=ds[\"train\"],\n",
    "    eval_dataset=ds[\"validation\"],\n",
    "    tokenizer=image_processor,\n",
    ")"
   ]
  },
  {
   "cell_type": "code",
   "execution_count": null,
   "id": "a181854b-00b1-476e-988c-f741d88b10d2",
   "metadata": {},
   "outputs": [],
   "source": [
    "trainer.train()"
   ]
  },
  {
   "cell_type": "code",
   "execution_count": null,
   "id": "d63f78b2-c392-4512-b141-19da9587dbc5",
   "metadata": {},
   "outputs": [],
   "source": [
    "results = trainer.evaluate()\n",
    "print(results)"
   ]
  },
  {
   "cell_type": "code",
   "execution_count": null,
   "id": "abd8c948-5f91-42e7-a7af-bd3aecffd8d3",
   "metadata": {},
   "outputs": [],
   "source": [
    "import pandas as pd\n",
    "\n",
    "loghistory = pd.DataFrame(trainer.state.log_history)\n",
    "loghistory = loghistory.fillna(0)\n",
    "loghistory = loghistory.groupby('epoch').mean()\n",
    "\n",
    "plt.figure(figsize=(6,4))\n",
    "plt.plot(loghistory.index, loghistory['loss'], label='Training Loss')\n",
    "plt.plot(loghistory.index, loghistory['eval_loss'], label='Validation Loss')\n",
    "plt.xlabel('Epoch')\n",
    "plt.ylabel('Loss')\n",
    "plt.title('Training & Validation Loss')\n",
    "plt.legend()\n",
    "plt.show()"
   ]
  },
  {
   "cell_type": "code",
   "execution_count": null,
   "id": "56c2729f-12cf-457e-97c2-68ed778baa2e",
   "metadata": {},
   "outputs": [],
   "source": []
  }
 ],
 "metadata": {
  "kernelspec": {
   "display_name": "Python 3 (ipykernel)",
   "language": "python",
   "name": "python3"
  },
  "language_info": {
   "codemirror_mode": {
    "name": "ipython",
    "version": 3
   },
   "file_extension": ".py",
   "mimetype": "text/x-python",
   "name": "python",
   "nbconvert_exporter": "python",
   "pygments_lexer": "ipython3",
   "version": "3.12.7"
  }
 },
 "nbformat": 4,
 "nbformat_minor": 5
}
